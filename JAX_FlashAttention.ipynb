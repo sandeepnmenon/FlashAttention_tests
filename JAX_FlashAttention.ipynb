{
  "nbformat": 4,
  "nbformat_minor": 0,
  "metadata": {
    "colab": {
      "provenance": [],
      "authorship_tag": "ABX9TyM99VMzLzcBjeQAxRELQgL/",
      "include_colab_link": true
    },
    "kernelspec": {
      "name": "python3",
      "display_name": "Python 3"
    },
    "language_info": {
      "name": "python"
    },
    "accelerator": "TPU"
  },
  "cells": [
    {
      "cell_type": "markdown",
      "metadata": {
        "id": "view-in-github",
        "colab_type": "text"
      },
      "source": [
        "<a href=\"https://colab.research.google.com/github/sandeepnmenon/FlashAttention_tests/blob/master/JAX_FlashAttention.ipynb\" target=\"_parent\"><img src=\"https://colab.research.google.com/assets/colab-badge.svg\" alt=\"Open In Colab\"/></a>"
      ]
    },
    {
      "cell_type": "code",
      "execution_count": 2,
      "metadata": {
        "colab": {
          "base_uri": "https://localhost:8080/"
        },
        "id": "QyaMBR8rWIOj",
        "outputId": "094efd61-dce6-403f-d755-3492beed0f2d"
      },
      "outputs": [
        {
          "output_type": "stream",
          "name": "stdout",
          "text": [
            "Collecting flash-attention-jax\n",
            "  Downloading flash_attention_jax-0.3.1-py3-none-any.whl (10 kB)\n",
            "Collecting einops (from flash-attention-jax)\n",
            "  Downloading einops-0.7.0-py3-none-any.whl (44 kB)\n",
            "\u001b[2K     \u001b[90m━━━━━━━━━━━━━━━━━━━━━━━━━━━━━━━━━━━━━━━━\u001b[0m \u001b[32m44.6/44.6 kB\u001b[0m \u001b[31m1.2 MB/s\u001b[0m eta \u001b[36m0:00:00\u001b[0m\n",
            "\u001b[?25hRequirement already satisfied: jax>=0.2.20 in /usr/local/lib/python3.10/dist-packages (from flash-attention-jax) (0.3.25)\n",
            "Requirement already satisfied: numpy>=1.20 in /usr/local/lib/python3.10/dist-packages (from jax>=0.2.20->flash-attention-jax) (1.23.5)\n",
            "Requirement already satisfied: opt-einsum in /usr/local/lib/python3.10/dist-packages (from jax>=0.2.20->flash-attention-jax) (3.3.0)\n",
            "Requirement already satisfied: scipy>=1.5 in /usr/local/lib/python3.10/dist-packages (from jax>=0.2.20->flash-attention-jax) (1.11.3)\n",
            "Requirement already satisfied: typing-extensions in /usr/local/lib/python3.10/dist-packages (from jax>=0.2.20->flash-attention-jax) (4.5.0)\n",
            "Installing collected packages: einops, flash-attention-jax\n",
            "Successfully installed einops-0.7.0 flash-attention-jax-0.3.1\n"
          ]
        }
      ],
      "source": [
        "!pip install flash-attention-jax"
      ]
    },
    {
      "cell_type": "code",
      "source": [
        "from jax import random\n",
        "from flash_attention_jax import flash_attention\n",
        "\n",
        "rng_key = random.PRNGKey(42)\n",
        "\n",
        "q = random.normal(rng_key, (1, 2, 131072, 512))  # (batch, heads, seq, dim)\n",
        "k = random.normal(rng_key, (1, 2, 131072, 512))\n",
        "v = random.normal(rng_key, (1, 2, 131072, 512))\n",
        "mask = random.randint(rng_key, (1, 131072,), 0, 2) # (batch, seq)\n",
        "\n",
        "out, _ = flash_attention(q, k, v, mask)\n",
        "\n",
        "out.shape  # (1, 2, 131072, 512) - (batch, heads, seq, dim)"
      ],
      "metadata": {
        "colab": {
          "base_uri": "https://localhost:8080/"
        },
        "id": "iZHsWNj0WN1R",
        "outputId": "3edc5c03-1ceb-4326-dca7-178e9e7d14ac"
      },
      "execution_count": null,
      "outputs": [
        {
          "output_type": "stream",
          "name": "stderr",
          "text": [
            "WARNING:jax._src.lib.xla_bridge:No GPU/TPU found, falling back to CPU. (Set TF_CPP_MIN_LOG_LEVEL=0 and rerun for more info.)\n"
          ]
        }
      ]
    },
    {
      "cell_type": "code",
      "source": [
        "from flash_attention_jax import plain_attention, flash_attention, value_and_grad_difference\n",
        "\n",
        "diff, (dq_diff, dk_diff, dv_diff) = value_and_grad_difference(\n",
        "    plain_attention,\n",
        "    flash_attention,\n",
        "    seed = 42\n",
        ")\n",
        "\n",
        "print('shows differences between normal and flash attention for output, dq, dk, dv')\n",
        "print(f'o: {diff}')       # < 1e-4\n",
        "print(f'dq: {dq_diff}')   # < 1e-6\n",
        "print(f'dk: {dk_diff}')   # < 1e-6\n",
        "print(f'dv: {dv_diff}')   # < 1e-6"
      ],
      "metadata": {
        "id": "43apF_n4WSF2"
      },
      "execution_count": null,
      "outputs": []
    },
    {
      "cell_type": "code",
      "source": [
        "from jax import random\n",
        "from flash_attention_jax import causal_flash_attention\n",
        "\n",
        "rng_key = random.PRNGKey(42)\n",
        "\n",
        "q = random.normal(rng_key, (131072, 512))\n",
        "k = random.normal(rng_key, (131072, 512))\n",
        "v = random.normal(rng_key, (131072, 512))\n",
        "\n",
        "out, _ = causal_flash_attention(q, k, v)\n",
        "\n",
        "out.shape  # (131072, 512)"
      ],
      "metadata": {
        "id": "N3o6yYgPWUGw"
      },
      "execution_count": null,
      "outputs": []
    },
    {
      "cell_type": "code",
      "source": [],
      "metadata": {
        "id": "MPYx95bfWVQd"
      },
      "execution_count": null,
      "outputs": []
    }
  ]
}